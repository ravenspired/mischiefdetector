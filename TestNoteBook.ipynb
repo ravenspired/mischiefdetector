{
  "nbformat": 4,
  "nbformat_minor": 0,
  "metadata": {
    "colab": {
      "name": "TestNoteBook.ipynb",
      "provenance": [],
      "collapsed_sections": []
    },
    "kernelspec": {
      "name": "python3",
      "display_name": "Python 3"
    }
  },
  "cells": [
    {
      "cell_type": "code",
      "metadata": {
        "id": "yjlgDiLTdiWv",
        "colab_type": "code",
        "colab": {
          "base_uri": "https://localhost:8080/",
          "height": 173
        },
        "outputId": "4dfc3142-5c4d-4b34-e81e-dd4743ff0fae"
      },
      "source": [
        "!git clone -v https://github.com/ravenspired/mischiefdetector.git mischiefdetector"
      ],
      "execution_count": 5,
      "outputs": [
        {
          "output_type": "stream",
          "text": [
            "Cloning into 'mischiefdetector'...\n",
            "POST git-upload-pack (215 bytes)\n",
            "remote: Enumerating objects: 2294, done.\u001b[K\n",
            "remote: Counting objects: 100% (2294/2294), done.\u001b[K\n",
            "remote: Compressing objects: 100% (831/831), done.\u001b[K\n",
            "remote: Total 4173 (delta 1477), reused 2257 (delta 1448), pack-reused 1879\u001b[K\n",
            "Receiving objects: 100% (4173/4173), 883.45 MiB | 15.42 MiB/s, done.\n",
            "Resolving deltas: 100% (1557/1557), done.\n",
            "Checking out files: 100% (2145/2145), done.\n"
          ],
          "name": "stdout"
        }
      ]
    },
    {
      "cell_type": "code",
      "metadata": {
        "id": "033Tv_magZ39",
        "colab_type": "code",
        "colab": {
          "base_uri": "https://localhost:8080/",
          "height": 121
        },
        "outputId": "fb2efb09-4f4e-45ad-eca6-6c15b4778804"
      },
      "source": [
        "!cd /content/mischiefdetector; python ai/imageclassifier.py"
      ],
      "execution_count": 7,
      "outputs": [
        {
          "output_type": "stream",
          "text": [
            "Using TensorFlow backend.\n",
            "Configuring Data-Generators ...\n",
            "... Done Configuring Data-Generators\n",
            "Fitting Normalization Data-Generator ...\n",
            "Found 2128 images belonging to 2 classes.\n",
            "/bin/bash: line 1:  1199 Killed                  python ai/imageclassifier.py\n"
          ],
          "name": "stdout"
        }
      ]
    },
    {
      "cell_type": "code",
      "metadata": {
        "id": "HOogN954kMdo",
        "colab_type": "code",
        "colab": {}
      },
      "source": [
        ""
      ],
      "execution_count": 0,
      "outputs": []
    }
  ]
}