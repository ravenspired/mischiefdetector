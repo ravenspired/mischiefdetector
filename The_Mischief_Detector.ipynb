{
  "nbformat": 4,
  "nbformat_minor": 0,
  "metadata": {
    "colab": {
      "name": "The Mischief Detector",
      "provenance": [],
      "collapsed_sections": [],
      "machine_shape": "hm"
    },
    "kernelspec": {
      "name": "python3",
      "display_name": "Python 3"
    },
    "accelerator": "GPU"
  },
  "cells": [
    {
      "cell_type": "code",
      "metadata": {
        "id": "bbjDImEKeaie",
        "colab_type": "code",
        "colab": {}
      },
      "source": [
        "# # # # #\n",
        "# Setup #\n",
        "# # # # #\n",
        "\n",
        "# Mount Google Drive\n",
        "from google.colab import drive\n",
        "drive.mount('/content/drive')\n",
        "\n",
        "# Download from GitHub\n",
        "!git clone -v https://github.com/ravenspired/mischiefdetector.git /content/mischiefdetector\n",
        "\n",
        "# Download checkpoints from Google Drive\n",
        "!if [ -d '/content/drive/My Drive/checkpoints' ]; then cp /content/drive/My Drive/checkpoints/* /content/mischiefdetector/checkpoints; else mkdir '/content/drive/My Drive/checkpoints'; fi\n",
        "\n",
        "# Install MiniConda\n",
        "!chmod +x /content/mischiefdetector/miniconda-install.sh\n",
        "!/content/mischiefdetector/miniconda-install.sh -b\n",
        "\n",
        "# Create the Conda Environment\n",
        "!cd /content/mischiefdetector/; /root/miniconda3/bin/conda-env create -f environment.yml"
      ],
      "execution_count": 0,
      "outputs": []
    },
    {
      "cell_type": "code",
      "metadata": {
        "colab_type": "code",
        "id": "033Tv_magZ39",
        "colab": {}
      },
      "source": [
        "# # # # #\n",
        "# Train #\n",
        "# # # # #\n",
        "\n",
        "#                              Check that our files are up-to-date\n",
        "#                              |\n",
        "# Move into the project folder |         Load the necessary packages                           Train the neural network!     Upload progress to Google Drive\n",
        "# |                            |         |                                                     |                             |\n",
        "!cd /content/mischiefdetector; git pull; /root/miniconda3/bin/conda activate MischiefDetector; python ai/trainclassifier.py; cp checkpoints/* '/content/drive/My Drive/checkpoints'"
      ],
      "execution_count": 0,
      "outputs": []
    },
    {
      "cell_type": "code",
      "metadata": {
        "colab_type": "code",
        "id": "LldPb5MKil6p",
        "colab": {}
      },
      "source": [
        "# # # # # # # # #\n",
        "# Training Loop #\n",
        "# # # # # # # # #\n",
        "\n",
        "# Automatically train and upload progress to Google Drive\n",
        "# Continues until stopped - Ideally wait until it finishes a cycle,\n",
        "# then you'll have 5 seconds to hit any key\n",
        "\n",
        "!bash /content/mischiefdetector/TrainLoop.bash"
      ],
      "execution_count": 0,
      "outputs": []
    }
  ]
}