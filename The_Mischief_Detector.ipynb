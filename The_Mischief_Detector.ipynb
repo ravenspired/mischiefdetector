{
  "nbformat": 4,
  "nbformat_minor": 0,
  "metadata": {
    "colab": {
      "name": "The Mischief Detector",
      "provenance": [],
      "collapsed_sections": [],
      "machine_shape": "hm"
    },
    "kernelspec": {
      "name": "python3",
      "display_name": "Python 3"
    },
    "accelerator": "GPU"
  },
  "cells": [
    {
      "cell_type": "code",
      "metadata": {
        "id": "V4qmjkKd7SWL",
        "colab_type": "code",
        "colab": {}
      },
      "source": [
        "# Download from GitHub\n",
        "!git clone -v https://github.com/ravenspired/mischiefdetector.git /content/mischiefdetector\n",
        "\n",
        "# Install MiniConda\n",
        "!chmod +x /content/mischiefdetector/miniconda-install.sh\n",
        "!/content/mischiefdetector/miniconda-install.sh -b\n",
        "\n",
        "# Create the Conda Environment\n",
        "!cd /content/mischiefdetector/; /root/miniconda3/bin/conda-env create -f environment.yml"
      ],
      "execution_count": 0,
      "outputs": []
    },
    {
      "cell_type": "code",
      "metadata": {
        "id": "033Tv_magZ39",
        "colab_type": "code",
        "colab": {}
      },
      "source": [
        "# Train the Model\n",
        "!cd /content/mischiefdetector; git pull; /root/miniconda3/bin/conda activate MischiefDetector; python ai/imageclassifier.py"
      ],
      "execution_count": 0,
      "outputs": []
    }
  ]
}