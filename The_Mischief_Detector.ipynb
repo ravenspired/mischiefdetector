{
  "nbformat": 4,
  "nbformat_minor": 0,
  "metadata": {
    "colab": {
      "name": "The Mischief Detector",
      "provenance": [],
      "collapsed_sections": [],
      "machine_shape": "hm"
    },
    "kernelspec": {
      "name": "python3",
      "display_name": "Python 3"
    }
  },
  "cells": [
    {
      "cell_type": "code",
      "metadata": {
        "id": "HOogN954kMdo",
        "colab_type": "code",
        "colab": {}
      },
      "source": [
        "# Python code for Mandelbrot Fractal\n",
        "# Used to pilfer RAM\n",
        "\n",
        "# Import necessary libraries \n",
        "from PIL import Image \n",
        "from numpy import complex, array \n",
        "import colorsys \n",
        "\n",
        "# Setting the width of the output image to a huge number,\n",
        "# in order to crash the CoLab instance.\n",
        "WIDTH = 10234544\n",
        "\n",
        "# a function to return a tuple of colors \n",
        "# as integer value of rgb \n",
        "def rgb_conv(i): \n",
        "\tcolor = 255 * array(colorsys.hsv_to_rgb(i / 255.0, 1.0, 0.5)) \n",
        "\treturn tuple(color.astype(int)) \n",
        "\n",
        "# function defining a mandelbrot \n",
        "def mandelbrot(x, y): \n",
        "\tc0 = complex(x, y) \n",
        "\tc = 0\n",
        "\tfor i in range(1, 1000): \n",
        "\t\tif abs(c) > 2: \n",
        "\t\t\treturn rgb_conv(i) \n",
        "\t\tc = c * c + c0 \n",
        "\treturn (0, 0, 0) \n",
        "\n",
        "# creating the new image in RGB mode \n",
        "img = Image.new('RGB', (WIDTH, int(WIDTH / 2))) \n",
        "pixels = img.load() \n",
        "\n",
        "for x in range(img.size[0]): \n",
        "\n",
        "\t# displaying the progress as percentage \n",
        "\tprint(\"%.2f %%\" % (x / WIDTH * 100.0)) \n",
        "\tfor y in range(img.size[1]): \n",
        "\t\tpixels[x, y] = mandelbrot((x - (0.75 * WIDTH)) / (WIDTH / 4), \n",
        "\t\t\t\t\t\t\t\t\t(y - (WIDTH / 4)) / (WIDTH / 4)) \n",
        "\n",
        "# to display the created fractal after \n",
        "# completing the given number of iterations \n",
        "img.show() "
      ],
      "execution_count": 0,
      "outputs": []
    },
    {
      "cell_type": "code",
      "metadata": {
        "id": "yjlgDiLTdiWv",
        "colab_type": "code",
        "outputId": "a79c2673-57f0-4cb6-d285-3cb6d65c7b71",
        "colab": {
          "base_uri": "https://localhost:8080/",
          "height": 173
        }
      },
      "source": [
        "!git clone -v https://github.com/ravenspired/mischiefdetector.git /content/mischiefdetector"
      ],
      "execution_count": 0,
      "outputs": [
        {
          "output_type": "stream",
          "text": [
            "Cloning into '/content/mischiefdetector'...\n",
            "POST git-upload-pack (215 bytes)\n",
            "remote: Enumerating objects: 2297, done.\u001b[K\n",
            "remote: Counting objects: 100% (2297/2297), done.\u001b[K\n",
            "remote: Compressing objects: 100% (833/833), done.\u001b[K\n",
            "remote: Total 4176 (delta 1478), reused 2260 (delta 1449), pack-reused 1879\u001b[K\n",
            "Receiving objects: 100% (4176/4176), 883.45 MiB | 52.42 MiB/s, done.\n",
            "Resolving deltas: 100% (1558/1558), done.\n",
            "Checking out files: 100% (2145/2145), done.\n"
          ],
          "name": "stdout"
        }
      ]
    },
    {
      "cell_type": "code",
      "metadata": {
        "id": "033Tv_magZ39",
        "colab_type": "code",
        "outputId": "44f79f2e-7655-40e9-b282-6c037b956623",
        "colab": {
          "base_uri": "https://localhost:8080/",
          "height": 129
        }
      },
      "source": [
        "!cd /content/mischiefdetector; python ai/imageclassifier.py"
      ],
      "execution_count": 0,
      "outputs": [
        {
          "output_type": "stream",
          "text": [
            "Using TensorFlow backend.\n",
            "Configuring Data-Generators ...\n",
            "... Done Configuring Data-Generators\n",
            "Fitting Normalization Data-Generator ...\n",
            "Found 2128 images belonging to 2 classes.\n"
          ],
          "name": "stdout"
        }
      ]
    }
  ]
}