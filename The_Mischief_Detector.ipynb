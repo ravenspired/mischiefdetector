{
  "nbformat": 4,
  "nbformat_minor": 0,
  "metadata": {
    "colab": {
      "name": "The Mischief Detector",
      "provenance": [],
      "collapsed_sections": [],
      "machine_shape": "hm"
    },
    "kernelspec": {
      "name": "python3",
      "display_name": "Python 3"
    },
    "accelerator": "GPU"
  },
  "cells": [
    {
      "cell_type": "code",
      "execution_count": 0,
      "metadata": {
        "colab": {},
        "colab_type": "code",
        "id": "V4qmjkKd7SWL"
      },
      "outputs": [],
      "source": [
        "# # # # #\n",
        "# Setup #\n",
        "# # # # #\n",
        "\n",
        "# Download from GitHub\n",
        "!git clone -v https://github.com/ravenspired/mischiefdetector.git /content/mischiefdetector\n",
        "\n",
        "# Install MiniConda\n",
        "!chmod +x /content/mischiefdetector/miniconda-install.sh\n",
        "!/content/mischiefdetector/miniconda-install.sh -b\n",
        "\n",
        "# Create the Conda Environment\n",
        "!cd /content/mischiefdetector/; /root/miniconda3/bin/conda-env create -f environment.yml"
      ]
    },
    {
      "cell_type": "code",
      "execution_count": 0,
      "metadata": {
        "colab": {},
        "colab_type": "code",
        "id": "033Tv_magZ39"
      },
      "outputs": [],
      "source": [
        "# # # # #\n",
        "# Train #\n",
        "# # # # #\n",
        "\n",
        "#                              Check that our files are up-to-date\n",
        "#                              |\n",
        "# Move into the project folder |         Load the necessary packages                           Train the neural network!\n",
        "# |                            |         |                                                     |\n",
        "!cd /content/mischiefdetector; git pull; /root/miniconda3/bin/conda activate MischiefDetector; python ai/trainclassifier.py"
      ]
    },
    {
      "cell_type": "code",
      "execution_count": null,
      "metadata": {},
      "outputs": [],
      "source": [
        "# # # # # # # #\n",
        "# Synchronize #\n",
        "# # # # # # # #\n",
        "\n",
        "# Start tracking any new files created\n",
        "!git add -A\n",
        "\n",
        "# Save changes locally\n",
        "!git commit -m 'Automated Training Commit'\n",
        "\n",
        "# Synchronize with remote repository\n",
        "!git pull\n",
        "\n",
        "# Upload our own modifications\n",
        "!git push"
      ]
    }
  ]
}