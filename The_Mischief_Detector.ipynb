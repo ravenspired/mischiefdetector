{
  "nbformat": 4,
  "nbformat_minor": 0,
  "metadata": {
    "colab": {
      "name": "The Mischief Detector",
      "provenance": [],
      "collapsed_sections": [],
      "machine_shape": "hm"
    },
    "kernelspec": {
      "name": "python3",
      "display_name": "Python 3"
    },
    "accelerator": "GPU"
  },
  "cells": [
    {
      "cell_type": "code",
      "metadata": {
        "colab_type": "code",
        "id": "V4qmjkKd7SWL",
        "colab": {}
      },
      "source": [
        "# # # # #\n",
        "# Setup #\n",
        "# # # # #\n",
        "\n",
        "# Mount Google Drive\n",
        "from google.colab import drive\n",
        "drive.mount('/content/drive')\n",
        "!mkdir /content/drive/MyDrive/checkpoints\n",
        "\n",
        "# Download from GitHub\n",
        "!git clone -v https://github.com/ravenspired/mischiefdetector.git /content/mischiefdetector\n",
        "\n",
        "# Install MiniConda\n",
        "!chmod +x /content/mischiefdetector/miniconda-install.sh\n",
        "!/content/mischiefdetector/miniconda-install.sh -b\n",
        "\n",
        "# Create the Conda Environment\n",
        "!cd /content/mischiefdetector/; /root/miniconda3/bin/conda-env create -f environment.yml"
      ],
      "execution_count": 0,
      "outputs": []
    },
    {
      "cell_type": "code",
      "metadata": {
        "colab_type": "code",
        "id": "033Tv_magZ39",
        "colab": {}
      },
      "source": [
        "# # # # #\n",
        "# Train #\n",
        "# # # # #\n",
        "\n",
        "#                              Check that our files are up-to-date\n",
        "#                              |\n",
        "# Move into the project folder |         Load the necessary packages                           Train the neural network!     Upload progress to Google Drive\n",
        "# |                            |         |                                                     |                             |\n",
        "!cd /content/mischiefdetector; git pull; /root/miniconda3/bin/conda activate MischiefDetector; python ai/trainclassifier.py; cp checkpoints/* /content/drive/checkpoints"
      ],
      "execution_count": 0,
      "outputs": []
    },
    {
      "cell_type": "code",
      "metadata": {
        "id": "LldPb5MKil6p",
        "colab_type": "code",
        "colab": {}
      },
      "source": [
        "# # # # # # # # #\n",
        "# Training Loop #\n",
        "# # # # # # # # #\n",
        "\n",
        "# Automatically train and upload progress to Google Drive\n",
        "# Continues until stopped - Ideally wait until it finishes a cycle,\n",
        "# then you'll have 5 seconds to hit any key\n",
        "\n",
        "!chmod +x /content/mischiefdetector/TrainLoop.bash\n",
        "!bash /content/mischiefdetector/TrainLoop.bash"
      ],
      "execution_count": 0,
      "outputs": []
    }
  ]
}